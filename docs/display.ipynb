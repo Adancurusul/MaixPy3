{
 "metadata": {
  "language_info": {
   "codemirror_mode": {
    "name": "ipython",
    "version": 3
   },
   "file_extension": ".py",
   "mimetype": "text/x-python",
   "name": "python",
   "nbconvert_exporter": "python",
   "pygments_lexer": "ipython3",
   "version": "3.8.5-final"
  },
  "orig_nbformat": 2,
  "kernelspec": {
   "name": "python3",
   "display_name": "Python 3.8.5 64-bit",
   "metadata": {
    "interpreter": {
     "hash": "31f2aee4e71d21fbe5cf8b01ff0e069b9275f58929596ceb00d14d90e3e16cd6"
    }
   }
  }
 },
 "nbformat": 4,
 "nbformat_minor": 2,
 "cells": [
  {
   "cell_type": "code",
   "execution_count": 1,
   "metadata": {},
   "outputs": [
    {
     "output_type": "stream",
     "name": "stdout",
     "text": [
      "Found existing installation: maix 0.1.dev2\nUninstalling maix-0.1.dev2:\n  Successfully uninstalled maix-0.1.dev2\n"
     ]
    }
   ],
   "source": [
    "!pip uninstall -y maix"
   ]
  },
  {
   "cell_type": "code",
   "execution_count": 4,
   "metadata": {},
   "outputs": [
    {
     "output_type": "stream",
     "name": "stdout",
     "text": [
      "Looking in indexes: https://pypi.tuna.tsinghua.edu.cn/simple\n",
      "Processing /home/juwan/maix\n",
      "  Installing build dependencies ... \u001b[?25ldone\n",
      "\u001b[?25h  Getting requirements to build wheel ... \u001b[?25ldone\n",
      "\u001b[?25h    Preparing wheel metadata ... \u001b[?25ldone\n",
      "\u001b[?25hBuilding wheels for collected packages: maix\n",
      "  Building wheel for maix (PEP 517) ... \u001b[?25ldone\n",
      "\u001b[?25h  Created wheel for maix: filename=maix-0.1.dev2-py3-none-any.whl size=3454 sha256=d45177d9e5b0c1c21076ebb1b55eacfc0693a889c06e7880a57de6136369152a\n",
      "  Stored in directory: /tmp/pip-ephem-wheel-cache-406ekhj0/wheels/bd/43/9c/44615c17e649396ad0232100302c55f59040a16cfc710ee297\n",
      "Successfully built maix\n",
      "Installing collected packages: maix\n",
      "Successfully installed maix-0.1.dev2\n"
     ]
    }
   ],
   "source": [
    "!pip install .."
   ]
  },
  {
   "cell_type": "code",
   "execution_count": 5,
   "metadata": {},
   "outputs": [
    {
     "output_type": "stream",
     "name": "stdout",
     "text": [
      "<module 'maix.display' from '/home/juwan/.local/lib/python3.8/site-packages/maix/display.py'>\n<module 'maix.video' from '/home/juwan/.local/lib/python3.8/site-packages/maix/video.py'>\n"
     ]
    }
   ],
   "source": [
    "from maix import display, video\n",
    "print(display)\n",
    "print(video)"
   ]
  },
  {
   "cell_type": "code",
   "execution_count": 6,
   "metadata": {},
   "outputs": [
    {
     "output_type": "stream",
     "name": "stdout",
     "text": [
      "['Image', 'ImageShow', '__builtins__', '__cached__', '__display__', '__doc__', '__file__', '__loader__', '__name__', '__package__', '__spec__', 'clear', 'fill', 'show', 'shutil']\n"
     ]
    }
   ],
   "source": [
    "from maix import display\n",
    "display.clear((255, 0, 0))\n",
    "display.fill((20, 20, 220, 220), (0, 0, 0))\n",
    "display.fill((40, 40, 200, 200), (0, 0, 255))"
   ]
  },
  {
   "cell_type": "code",
   "execution_count": 7,
   "metadata": {},
   "outputs": [],
   "source": [
    "from PIL import Image, ImageDraw\n",
    "image = Image.new(\"RGB\", (100, 60), \"#FFFFFF\")\n",
    "draw = ImageDraw.Draw(image)\n",
    "draw.text((10, 10), u'hello world', (0, 0, 0))\n",
    "image = image.rotate(90)\n",
    "# image.show()\n",
    "\n",
    "from maix import display\n",
    "display.show(image, (0, 120))"
   ]
  },
  {
   "cell_type": "code",
   "execution_count": 8,
   "metadata": {},
   "outputs": [],
   "source": [
    "from PIL import Image\n",
    "from maix import display\n",
    "tmp = b'\\x00\\xFF\\x00' * (20 * 20)\n",
    "image = Image.frombytes(\"RGB\", (10, 40), tmp)\n",
    "display.show(image)"
   ]
  },
  {
   "cell_type": "code",
   "execution_count": null,
   "metadata": {},
   "outputs": [],
   "source": []
  }
 ]
}